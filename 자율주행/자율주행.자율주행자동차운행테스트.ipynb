{
 "cells": [
  {
   "cell_type": "markdown",
   "id": "b6a63af5",
   "metadata": {},
   "source": [
    "#### 아래 내용은 Intel® AI for Youth 프로그램을 참고하여\n",
    "BrainAI와 BrainAI Coach Network에서 개발한 내용입니다.<br> \n",
    "상업적 사용은 불가하며 교육기관 및 학교에서 학생들 교육활동에 자유롭게 사용가능합니다."
   ]
  },
  {
   "cell_type": "markdown",
   "id": "df2db427",
   "metadata": {},
   "source": [
    "# 프로젝트 제목: BrainAI Car 자율 주행\n",
    "직진, 좌회전, 정지 등의 신호를 인식하는 자율 주행 테스트"
   ]
  },
  {
   "cell_type": "markdown",
   "id": "c6ce0ef6-0a89-4db5-abc9-ebe89daf7a7d",
   "metadata": {},
   "source": [
    "### Task 1. 필요 라이브러리 불러오기"
   ]
  },
  {
   "cell_type": "code",
   "execution_count": 4,
   "id": "6a11ef4a",
   "metadata": {},
   "outputs": [],
   "source": [
    "import cv2\n",
    "import numpy as np\n",
    "import time\n",
    " \n",
    "from utils import serialwrite as sw\n",
    "from utils import webcam, brain, sign\n",
    "from utils import linetracing as lt"
   ]
  },
  {
   "cell_type": "markdown",
   "id": "d708eced-1aa0-4a6d-a76a-3a714c026be7",
   "metadata": {},
   "source": [
    "### Task 2. Main 함수 작성"
   ]
  },
  {
   "cell_type": "code",
   "execution_count": 5,
   "id": "a66319f1-edac-4d13-a3fb-d8f9f1dae99f",
   "metadata": {},
   "outputs": [],
   "source": [
    "def Main():\n",
    "    \n",
    "    MODE_PAUSE = -1 \n",
    "    MODE_LINE_TRACING = 0\n",
    "    MODE_CROSSWALK = 1\n",
    "    MODE_WAIT = 2\n",
    "    MODE_INFERENCE = 3\n",
    "    MODE_MOVE = 4\n",
    "    MODE_FORWARD = 5\n",
    "    mode_status = MODE_PAUSE\n",
    "    \n",
    "    video_capture = cv2.VideoCapture(video)\n",
    "    video_capture.set(cv2.CAP_PROP_BUFFERSIZE, 0)\n",
    "\n",
    "    ser = sw.startSerial(serial_on)\n",
    "    cnn_model = brain.CNN_Model()\n",
    "    model = cnn_model.load_CNN_Model()\n",
    "    labels = cnn_model.GetLabels()\n",
    "    \n",
    "    text = \"Press 'p' to start\"\n",
    "    color = (0, 0, 255)\n",
    "    turn = 90\n",
    "    box = None\n",
    "    tic = time.time()\n",
    "    \n",
    "    print(\"Press 'q' to quit\") \n",
    "    print(\"Press 'p' to start/pause\")\n",
    "    print()\n",
    "    \n",
    "    while(True):     \n",
    "        grabbed, frame = video_capture.read()\n",
    "        cropFrame, y1, y2, width, height = webcam.Crop(frame)\n",
    "        \n",
    "        if mode_status == MODE_LINE_TRACING:\n",
    "            text = \"\"\n",
    "            box = lt.RedDetection(cropFrame, y1)           \n",
    "            if box is not None:\n",
    "                text = \"Crosswalk\"\n",
    "                mode_status = MODE_CROSSWALK               \n",
    "            else:\n",
    "                tic, text, turn, thresh =  lt.LineTracing(threshold, sens, cropFrame, \n",
    "                                                          frame, tic, width, height, y1)\n",
    "                sw.SerialSendCommand(turn, ser, serial_on)                      \n",
    "        elif mode_status == MODE_CROSSWALK:\n",
    "            cmd = 0\n",
    "            sw.SerialSendCommand(cmd, ser, serial_on)\n",
    "            ret = sw.SerialReceiveResponse(ser, serial_on)           \n",
    "            if ret == 0:\n",
    "                tic = time.time()\n",
    "                wait = 3\n",
    "                mode_status = MODE_WAIT                \n",
    "        elif mode_status == MODE_WAIT:\n",
    "            cropped, box = sign.FindTrafficSign(frame)            \n",
    "            if time.time() - tic > wait:  \n",
    "                mode_status = MODE_INFERENCE\n",
    "        elif mode_status == MODE_INFERENCE:                       \n",
    "            if cropped is not None:      \n",
    "                class_id, score, text = sign.ReadTrafficSign(cropped, model, labels)        \n",
    "                tic = time.time()        \n",
    "                if score > 0.85:\n",
    "                    if 'left' in labels[class_id]:\n",
    "                        mode_status = MODE_MOVE\n",
    "                        turnMove = turnDegree\n",
    "                        sw.SerialSendCommand(turnSpeed, ser, serial_on)                         \n",
    "                    elif 'forward' in labels[class_id]:\n",
    "                        mode_status = MODE_FORWARD\n",
    "                        sw.SerialSendCommand(turnSpeed, ser, serial_on)                      \n",
    "                    elif 'stop' in labels[class_id]:\n",
    "                        mode_status = MODE_WAIT                                                               \n",
    "                    elif 'noSign' in labels[class_id]:\n",
    "                        mode_status = MODE_WAIT                    \n",
    "                    box = None                 \n",
    "                else:\n",
    "                    mode_status = MODE_WAIT                    \n",
    "            else: \n",
    "                mode_status = MODE_WAIT\n",
    "                wait = .5 \n",
    "        elif mode_status == MODE_MOVE:               \n",
    "            if time.time() - tic < alignTime: \n",
    "                ret, cmd =  sign.Move(alignTime, tic, turn, True)   \n",
    "                sw.SerialSendCommand(cmd, ser, serial_on)           \n",
    "            else:                \n",
    "                ret, cmd = sign.Move(turnTime, tic, turnMove, False)\n",
    "                sw.SerialSendCommand(cmd, ser, serial_on)                                \n",
    "                if ret == 1: \n",
    "                    sw.SerialSendCommand(speed, ser, serial_on) \n",
    "                    mode_status = MODE_LINE_TRACING\n",
    "                    tic = time.time()\n",
    "           \n",
    "        elif mode_status == MODE_FORWARD:               \n",
    "                ret, cmd = sign.Move(forwardTime, tic, turn, True)\n",
    "                sw.SerialSendCommand(cmd, ser, serial_on)                \n",
    "                if ret == 1: \n",
    "                    sw.SerialSendCommand(speed, ser, serial_on)  \n",
    "                    mode_status = MODE_LINE_TRACING\n",
    "                    tic = time.time()\n",
    "                    \n",
    "        else:\n",
    "            cmd = '0'      \n",
    "            sw.SerialSendCommand(cmd, ser, serial_on)      \n",
    "            \n",
    "        key = cv2.waitKey(1);        \n",
    "        if key == ord('q'):\n",
    "                break      \n",
    "        elif key == ord('p'):\n",
    "            if mode_status != MODE_PAUSE:\n",
    "                mode_status = MODE_PAUSE          \n",
    "                color = (0,0,255)\n",
    "                text = \"Press 'p' to start\"\n",
    "                box = None               \n",
    "            elif mode_status == MODE_PAUSE:\n",
    "                mode_status = MODE_LINE_TRACING\n",
    "                sw.SerialSendCommand(speed, ser, serial_on)  \n",
    "                color = (50,255,50)\n",
    "        \n",
    "        if box is not None:\n",
    "            cv2.drawContours(frame,[box],0,color,2) #show the box        \n",
    "        cv2.putText(frame, text, (30,50), cv2.FONT_HERSHEY_SIMPLEX, 1.5, color, 3)\n",
    "        cv2.imshow('Brain AI Car', frame)\n",
    "\n",
    "    time.sleep(.5)        \n",
    "    cmd = 0\n",
    "    sw.SerialSendCommand(cmd, ser, serial_on)\n",
    "    \n",
    "    #end program\n",
    "    video_capture.release()\n",
    "    cv2.destroyAllWindows()\n",
    "    sw.closeSerial(ser, serial_on)\n",
    "    print('Shutting Down')"
   ]
  },
  {
   "cell_type": "markdown",
   "id": "535387ef-bb4e-4636-9f8a-0749ea0126a5",
   "metadata": {},
   "source": [
    "### Task 3. 설정 값 변경 및 프로그램 실행"
   ]
  },
  {
   "cell_type": "code",
   "execution_count": 7,
   "id": "713a8331",
   "metadata": {
    "scrolled": true
   },
   "outputs": [
    {
     "name": "stdout",
     "output_type": "stream",
     "text": [
      "\n",
      " -- Microbit --\n",
      "Microbit USB detected:  COM4\n",
      "Loading Model\n",
      "labels =  ['forward', 'left', 'noSign', 'schoolZone', 'stop']\n",
      "\n",
      "Press 'q' to quit\n",
      "Press 'p' to start/pause\n",
      "\n",
      "Shutting Down\n"
     ]
    }
   ],
   "source": [
    "# 설정 값 변경 및 프로그램 실행\n",
    "video = \"http://172.30.1.68:8080/video\" # 코드\n",
    "speed = 500                     # 도로 주행 속도(검정색 라인 따라 주행)\n",
    "threshold = 100                 # 검정색 인식 임계값(어두울 수록 낮게)\n",
    "sens = .9                       # 도로 주행 민감도(1 = 민감도 없음, 1.5 = 중간, 2 = 매우 민감)\n",
    "\n",
    "turnSpeed = 500                 # 회전 주행 속도\n",
    "turnTime = 3                  # 회전 시간(approx. 3.5 ~ 6)\n",
    "turnDegree = 60                # 최대 회전 각도(approx. 40 ~ 25)\n",
    "alignTime = .5                  # 핸들 중앙으로 맞추는 시간\n",
    "\n",
    "forwardTime = 3                 # 직진 주행 시간\n",
    "\n",
    "serial_on = True\n",
    "\n",
    "if __name__ == '__main__': \n",
    "    Main()    "
   ]
  },
  {
   "cell_type": "code",
   "execution_count": null,
   "id": "d8431857-a66e-4cac-9c11-350fda98ffbb",
   "metadata": {},
   "outputs": [],
   "source": []
  }
 ],
 "metadata": {
  "kernelspec": {
   "display_name": "Python 3 (ipykernel)",
   "language": "python",
   "name": "python3"
  },
  "language_info": {
   "codemirror_mode": {
    "name": "ipython",
    "version": 3
   },
   "file_extension": ".py",
   "mimetype": "text/x-python",
   "name": "python",
   "nbconvert_exporter": "python",
   "pygments_lexer": "ipython3",
   "version": "3.8.16"
  }
 },
 "nbformat": 4,
 "nbformat_minor": 5
}

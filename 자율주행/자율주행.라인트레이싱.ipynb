{
 "cells": [
  {
   "cell_type": "markdown",
   "metadata": {},
   "source": [
    "### 아래 내용은 글로벌 기업 (주)인텔에서 개발한 <br> Intel® AI for Youth Program 내용을 \n",
    "대한민국 Implementation Partner사인 (주)Brain AI와 Brain AI Lead Coach Network에서 우리나라 초, 중, 고 학생들의 AI 교육을 위해 현지화 한 내용입니다. <br>\n",
    "(주)Brain AI와 NDA를 체결한 학교에서만 사용 가능하며 NDA를 준수해야합니다. <br>\n",
    "상업적 사용은 불가하며, 학교내에서 학생들 교육활동에 자유롭게 사용가능합니다."
   ]
  },
  {
   "cell_type": "markdown",
   "metadata": {},
   "source": [
    "#  프로젝트 제목: BAI_Car 검정색 도로 따라 주행 하기\n",
    "OpenCV를 이용하여 검정색 도로를 따라 자율 주행하기"
   ]
  },
  {
   "cell_type": "code",
   "execution_count": 5,
   "metadata": {},
   "outputs": [],
   "source": [
    "# 필요 라이브러리 불러오기\n",
    "import cv2\n",
    "import numpy as np\n",
    "import time\n",
    "\n",
    "from utils import linetracing as lt  \n",
    "from utils import serialwrite as sw\n",
    "from utils import webcam                "
   ]
  },
  {
   "cell_type": "code",
   "execution_count": 12,
   "metadata": {
    "scrolled": true
   },
   "outputs": [],
   "source": [
    "# 메인 함수\n",
    "def Main():\n",
    "    \n",
    "    MODE_PAUSE = -1 \n",
    "    MODE_LINE_TRACING = 0\n",
    "    mode_status = MODE_PAUSE\n",
    "    video_capture = cv2.VideoCapture(video)\n",
    "    video_capture.set(cv2.CAP_PROP_BUFFERSIZE, 0)\n",
    "    ser = sw.startSerial(serial_on)\n",
    "    cmd = ''    \n",
    "    tic = time.time()\n",
    "    turn = ''\n",
    "    start = \"Press 'p' to start\"\n",
    "    \n",
    "    while(True):  \n",
    "        grabbed, frame = video_capture.read()\n",
    "        cropFrame, y1, y2, width, height = webcam.Crop(frame)  #코드\n",
    "        \n",
    "        tic, text, turn, thresh = lt.LineTracing(threshold, sens, cropFrame, frame, tic, width, height, y1)\n",
    "        \n",
    "        if mode_status == MODE_LINE_TRACING:\n",
    "            sw.SerialSendCommand(turn, ser,serial_on)      \n",
    "        else:\n",
    "            cmd = '0'      \n",
    "            sw.SerialSendCommand(cmd, ser, serial_on)        \n",
    "\n",
    "        key = cv2.waitKey(1);               \n",
    "        if key == ord('q'):\n",
    "            break        \n",
    "        elif key == ord('p'):     \n",
    "            if mode_status != MODE_PAUSE:\n",
    "                mode_status = MODE_PAUSE  \n",
    "                start = \"Press 'p' to start\"\n",
    "            elif mode_status == MODE_PAUSE:\n",
    "                mode_status = MODE_LINE_TRACING  \n",
    "                start = \"'p' to pause, 'q' to quit\"\n",
    "                sw.SerialSendCommand(speed, ser, serial_on)\n",
    "                \n",
    "        cv2.putText(frame, str(turn), (30,50), cv2.FONT_HERSHEY_SIMPLEX, 1, (0,255,0), 2) \n",
    "        cv2.putText(frame, start, (100,50), cv2.FONT_HERSHEY_SIMPLEX, 1, (0,255,255), 2) \n",
    "\n",
    "        cv2.imshow('Brain AI Car', frame)\n",
    "        cv2.imshow('Threshold', thresh)\n",
    "    \n",
    "    time.sleep(.5)        \n",
    "                \n",
    "    cmd = '0'      \n",
    "    sw.SerialSendCommand(cmd, ser, serial_on)\n",
    "    sw.closeSerial(ser, serial_on)\n",
    "    \n",
    "    video_capture.release()\n",
    "    cv2.destroyAllWindows()"
   ]
  },
  {
   "cell_type": "code",
   "execution_count": 13,
   "metadata": {
    "scrolled": true,
    "tags": []
   },
   "outputs": [
    {
     "name": "stdout",
     "output_type": "stream",
     "text": [
      "\n",
      " -- Microbit --\n",
      "Microbit USB detected:  COM4\n"
     ]
    }
   ],
   "source": [
    "# 설정 값 변경 및 프로그램 실행\n",
    "video = \"http://172.30.1.68:8080/video\" # 코드\n",
    "serial_on = True\n",
    "speed = 400       # 코드                 \n",
    "threshold = 100                \n",
    "sens = .9\n",
    "            \n",
    "if __name__ == '__main__':\n",
    "    Main()"
   ]
  },
  {
   "cell_type": "code",
   "execution_count": null,
   "metadata": {},
   "outputs": [],
   "source": []
  }
 ],
 "metadata": {
  "kernelspec": {
   "display_name": "Python 3 (ipykernel)",
   "language": "python",
   "name": "python3"
  },
  "language_info": {
   "codemirror_mode": {
    "name": "ipython",
    "version": 3
   },
   "file_extension": ".py",
   "mimetype": "text/x-python",
   "name": "python",
   "nbconvert_exporter": "python",
   "pygments_lexer": "ipython3",
   "version": "3.8.16"
  }
 },
 "nbformat": 4,
 "nbformat_minor": 4
}

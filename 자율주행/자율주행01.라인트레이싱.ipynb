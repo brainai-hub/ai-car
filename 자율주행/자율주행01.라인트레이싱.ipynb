{
 "cells": [
  {
   "cell_type": "markdown",
   "metadata": {},
   "source": [
    "#### 아래 내용은 Intel® AI for Youth 프로그램을 참고하여\n",
    "BrainAI와 BrainAI Coach Network에서 개발한 내용입니다.<br> \n",
    "상업적 사용은 불가하며 교육기관 및 학교에서 학생들 교육활동에 자유롭게 사용가능합니다."
   ]
  },
  {
   "cell_type": "markdown",
   "metadata": {},
   "source": [
    "#  프로젝트 제목: 라인 트레이싱\n",
    "OpenCV를 이용하여 검정색 도로를 따라 자율 주행하기"
   ]
  },
  {
   "cell_type": "markdown",
   "metadata": {},
   "source": [
    "### Task 1. 필요 라이브러리 불러오기"
   ]
  },
  {
   "cell_type": "code",
   "execution_count": null,
   "metadata": {},
   "outputs": [],
   "source": [
    "import cv2\n",
    "import numpy as np\n",
    "import time\n",
    "\n",
    "from utils import linetracing as lt  \n",
    "from utils import serialwrite as sw\n",
    "from utils import webcam      \n",
    "print(\"프로젝트 수행에 필요한 라이브러리를 모두 불러왔습니다.\")"
   ]
  },
  {
   "cell_type": "markdown",
   "metadata": {},
   "source": [
    "### Task 2. Main 함수 작성"
   ]
  },
  {
   "cell_type": "code",
   "execution_count": null,
   "metadata": {
    "scrolled": true
   },
   "outputs": [],
   "source": [
    "def Main():\n",
    "    \n",
    "    MODE_PAUSE = -1 \n",
    "    MODE_LINE_TRACING = 0\n",
    "    mode_status = MODE_PAUSE\n",
    "    video_capture = cv2.VideoCapture(video)\n",
    "    video_capture.set(cv2.CAP_PROP_BUFFERSIZE, 0)\n",
    "    ser = sw.startSerial(serial_on)\n",
    "    cmd = ''    \n",
    "    tic = time.time()\n",
    "    turn = ''\n",
    "    start = \"Press 'p' to start\"\n",
    "    \n",
    "    while(True):  \n",
    "        grabbed, frame = video_capture.read()\n",
    "        cropFrame, y1, y2, width, height = webcam.Crop(frame)\n",
    "        \n",
    "        tic, text, turn, thresh = lt.LineTracing(threshold, sens, cropFrame,\n",
    "                                                 frame, tic, width, height, y1)\n",
    "        \n",
    "        if mode_status == MODE_LINE_TRACING:\n",
    "            sw.SerialSendCommand(turn, ser,serial_on)      \n",
    "        else:\n",
    "            cmd = '0'      \n",
    "            sw.SerialSendCommand(cmd, ser, serial_on)        \n",
    "\n",
    "        key = cv2.waitKey(1);               \n",
    "        if key == ord('q'):\n",
    "            break        \n",
    "        elif key == ord('p'):     \n",
    "            if mode_status != MODE_PAUSE:\n",
    "                mode_status = MODE_PAUSE  \n",
    "                start = \"Press 'p' to start\"\n",
    "            elif mode_status == MODE_PAUSE:\n",
    "                mode_status = MODE_LINE_TRACING  \n",
    "                start = \"'p' to pause, 'q' to quit\"\n",
    "                sw.SerialSendCommand(speed, ser, serial_on)\n",
    "                \n",
    "        cv2.putText(frame, str(turn), (30,50), cv2.FONT_HERSHEY_SIMPLEX, 1, (0,255,0), 2) \n",
    "        cv2.putText(frame, start, (100,50), cv2.FONT_HERSHEY_SIMPLEX, 1, (0,255,255), 2) \n",
    "\n",
    "        cv2.imshow('Brain AI Car', frame)\n",
    "        cv2.imshow('Threshold', thresh)\n",
    "    \n",
    "    time.sleep(.5)        \n",
    "                \n",
    "    cmd = '0'      \n",
    "    sw.SerialSendCommand(cmd, ser, serial_on)\n",
    "    sw.closeSerial(ser, serial_on)\n",
    "    \n",
    "    video_capture.release()\n",
    "    cv2.destroyAllWindows()"
   ]
  },
  {
   "cell_type": "markdown",
   "metadata": {},
   "source": [
    "### Task 3. 설정 값 변경 및 프로그램 실행"
   ]
  },
  {
   "cell_type": "code",
   "execution_count": null,
   "metadata": {},
   "outputs": [],
   "source": [
    "# 설정 값 변경 및 프로그램 실행\n",
    "video = \"http://여기완성:8080/video\" # IP Webcam 서버 IP 주소\n",
    "speed = 500                     # 도로 주행 속도(검정색 라인 따라 주행)\n",
    "threshold = 100                 # 검정색 인식 임계값(어두울 수록 낮게)\n",
    "sens = .9                       # 도로 주행 민감도(1 = 민감도 없음, 1.5 = 중간, 2 = 매우 민감)\n",
    "\n",
    "serial_on = 여기 완성           # False 또는 True\n",
    "\n",
    "if __name__ == '__main__': \n",
    "    Main()    "
   ]
  }
 ],
 "metadata": {
  "kernelspec": {
   "display_name": "Python 3 (ipykernel)",
   "language": "python",
   "name": "python3"
  },
  "language_info": {
   "codemirror_mode": {
    "name": "ipython",
    "version": 3
   },
   "file_extension": ".py",
   "mimetype": "text/x-python",
   "name": "python",
   "nbconvert_exporter": "python",
   "pygments_lexer": "ipython3",
   "version": "3.8.16"
  }
 },
 "nbformat": 4,
 "nbformat_minor": 4
}

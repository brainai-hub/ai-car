{
 "cells": [
  {
   "cell_type": "markdown",
   "id": "4bbaaffa-82ac-43a1-97a3-233f3c8928e5",
   "metadata": {},
   "source": [
    " ### 아래 내용은 글로벌 기업 (주)인텔에서 개발한 Intel® AI for Youth Program 내용을 \n",
    "한국 Implementation Partner사인 (주)Brain AI와 Brain AI Coach Network에서 <br>\n",
    "우리나라 초, 중, 고 학생들의 AI 교육을 위해 현지화 한 내용입니다. <br>\n",
    "(주)Brain AI와 NDA를 체결한 학교에서만 사용 가능하며 NDA를 준수해야합니다. <br>\n",
    "상업적 사용은 불가하며, 학교내에서 학생들 교육활동에 자유롭게 사용가능합니다."
   ]
  },
  {
   "cell_type": "markdown",
   "id": "b37c7999-b69a-4710-a543-479dfa1fda68",
   "metadata": {
    "tags": []
   },
   "source": [
    "## <B>학습 주제: 시리얼 통신으로 명령 보내기\n",
    "데이터를 주고 받는 프로토콜중에 시리얼(Serial) 통신에 대해 알아봅시다. 그리고 pySerial 라이브러리를 이용하여 파이썬에서 시리얼 통신으로 명령을 주고 받는 프로그램을 작성해 봅시다. \n",
    "    \n",
    "[출처 링크](https://pythonhosted.org/pyserial/index.html)"
   ]
  },
  {
   "cell_type": "markdown",
   "id": "761957af-9821-4192-8682-378312ef3c76",
   "metadata": {
    "tags": []
   },
   "source": [
    "<img src=\"https://hardcopyworld.com/wp-content/uploads/2021/06/50e1ce8bce395fb62b000000-300x181.png\" alt=\"https://www.hardcopyworld.com/?p=2080\" width=\"300\" height=\"132\">\n",
    "\n",
    "[링크](https://www.hardcopyworld.com/?p=2080)"
   ]
  },
  {
   "cell_type": "markdown",
   "id": "5073a86d-26b9-4988-bf0d-4c9a7d085141",
   "metadata": {},
   "source": [
    "###  주피터 랩(Jupyter Lab) 사용 방법\n",
    "\n",
    "\n",
    "키보드의 위쪽 및 아래쪽 화살표 키를 사용하여 위 아래로 이동할 수 있습니다. <br />\n",
    "주피터 랩에서 \n",
    " - 코드 블록을 편집하려면 Enter를 누르십시오.\n",
    " - 코드를 실행하려면 코드 블록을 선택하고 <b> Shift + Enter  또는  Ctrl + Enter  를 누릅니다.</b> <br />\n",
    "\n",
    "주피터 랩 코드는 누적됩니다. (정의 된 변수는 주피터 랩을 닫을 때까지 계속 사용할 수 있습니다.) <br />\n",
    "따라서 예기치 않은 결과를 피하기 위해 위에서부터 시작하여 아래로 프로그램을 작성하고 실행하십시오!\n",
    "\n",
    "주피터 랩 사용에 대한 자세한 도움말을 보려면 위 메뉴에서 도움말을 클릭하세요. <br /> 또는 [여기](https://jupyterlab.readthedocs.io/en/stable/user/interface.html) 을 방문하여 자세히 알아보십시오.<br>\n",
    "\n",
    "여러분의 아이디어를 직접 프로그램하고 결과를 확인해보세요. 그것이 가장 빠른 학습 방법 중 하나입니다."
   ]
  },
  {
   "cell_type": "markdown",
   "id": "8c414a66-8377-4507-812b-102428e658d8",
   "metadata": {},
   "source": [
    "### 1. 파이썬에서 시리얼 통신을 사용하기 위해 pySerial 라이브러리 불러옵니다."
   ]
  },
  {
   "cell_type": "code",
   "execution_count": 54,
   "id": "5f5f587b-0563-4953-801d-8e518d7cc6fe",
   "metadata": {},
   "outputs": [],
   "source": [
    "# 필요 라이브러리 불러오기\n",
    "import serial\n",
    "import serial.tools.list_ports"
   ]
  },
  {
   "cell_type": "markdown",
   "id": "6366984f-8316-429a-a825-5b1c3cee9ec7",
   "metadata": {},
   "source": [
    "### 2. 마이크로비트와 시리얼 통신을 위해 사용되는 포트를 찾습니다."
   ]
  },
  {
   "cell_type": "code",
   "execution_count": 55,
   "id": "77e47181-2e36-4d5a-af98-d4a8cafc2d1a",
   "metadata": {},
   "outputs": [
    {
     "name": "stdout",
     "output_type": "stream",
     "text": [
      "Micro:bit detected:  COM5\n"
     ]
    }
   ],
   "source": [
    "# USB 시리얼 포트 자동 찾기\n",
    "ports = serial.tools.list_ports.comports()\n",
    "com = ''\n",
    "for port, desc, hwid in sorted(ports):        \n",
    "    if 'USB' in desc:\n",
    "        com = port\n",
    "if com != '':\n",
    "    print('Micro:bit detected: ', com)   \n",
    "else:\n",
    "    print('Please connect your microbit to this PC via USB')\n",
    "    \n",
    "ser = serial.Serial(com, 115200, timeout=0, parity=serial.PARITY_NONE, rtscts=0)"
   ]
  },
  {
   "cell_type": "code",
   "execution_count": 56,
   "id": "05fd2f56-9840-4124-93ff-e5da0bd5e890",
   "metadata": {},
   "outputs": [],
   "source": [
    "# 시리얼 포트를 자동으로 찾지 못할 경우 아래와 같이 포트번호를 직접 입력합니다.\n",
    "# ser = serial.Serial('COM5', 115200, timeout=0, parity=serial.PARITY_NONE, rtscts=0)"
   ]
  },
  {
   "cell_type": "markdown",
   "id": "9312bdc9-249d-4854-9667-b2fb586241ba",
   "metadata": {},
   "source": [
    "### 3. 파이썬에서 시리얼 통신을 이용하여 마이크로비트로 명령을 보내는 함수입니다."
   ]
  },
  {
   "cell_type": "code",
   "execution_count": 76,
   "id": "75b872e8-0729-4341-bf27-e78c503c5c98",
   "metadata": {},
   "outputs": [],
   "source": [
    "def SerialSendCommand(cmd):\n",
    "    \n",
    "    cmd = str(cmd)\n",
    "    cmd  = cmd + '\\n'\n",
    "    cmd = str.encode(cmd)\n",
    "    print(f\"cmd는 {cmd}\")\n",
    "    ser.write(cmd)\n",
    "    \n",
    "    line = ser.readline().decode('utf-8')\n",
    "    line = str(line)\n",
    "    print(f\"line은 {line}\")\n",
    "    if line == '0': \n",
    "        print(f\"AI Car Body의 마이크로비트로 부터 문자 '0'을 라디어 통신으로 받아 line은 {line}이 되었습니다.\")\n"
   ]
  },
  {
   "cell_type": "code",
   "execution_count": 81,
   "id": "bfca0bcc-af15-4bf6-b824-23296fc9f5c7",
   "metadata": {},
   "outputs": [
    {
     "name": "stdout",
     "output_type": "stream",
     "text": [
      "cmd는 b'0\\n'\n",
      "line은 0\n",
      "라디오 통신으로 자동차에서 문자 '0'받아서 line은 0이 되었습니다.\n"
     ]
    }
   ],
   "source": [
    "SerialSendCommand(0)"
   ]
  },
  {
   "cell_type": "code",
   "execution_count": 6,
   "id": "f328c647-38d8-4342-8c3a-41231be0d199",
   "metadata": {},
   "outputs": [],
   "source": [
    "ser.close()"
   ]
  }
 ],
 "metadata": {
  "kernelspec": {
   "display_name": "Python 3 (ipykernel)",
   "language": "python",
   "name": "python3"
  },
  "language_info": {
   "codemirror_mode": {
    "name": "ipython",
    "version": 3
   },
   "file_extension": ".py",
   "mimetype": "text/x-python",
   "name": "python",
   "nbconvert_exporter": "python",
   "pygments_lexer": "ipython3",
   "version": "3.8.16"
  }
 },
 "nbformat": 4,
 "nbformat_minor": 5
}

{
 "cells": [
  {
   "cell_type": "markdown",
   "metadata": {},
   "source": [
    "#### 아래 내용은 Intel® AI for Youth 프로그램을 참고하여\n",
    "BrainAI와 BrainAI Coach Network에서 개발한 내용입니다.<br> \n",
    "상업적 사용은 불가하며 교육기관 및 학교에서 학생들 교육활동에 자유롭게 사용가능합니다."
   ]
  },
  {
   "cell_type": "markdown",
   "metadata": {},
   "source": [
    "# 프로젝트 제목: 교통 신호 데이터 획득 하기\n",
    "자율주행자동차가 횡단보도에 정지 한 후 교통 신호를 판단하여 신호에 따라 주행할 수 있도록 하기 위해<br>\n",
    "실시간 영상에서 관심 영역으로 지정된 교통 신호 이미지 데이터를 획득한다."
   ]
  },
  {
   "cell_type": "markdown",
   "metadata": {},
   "source": [
    "### Task 1. 필요 라이브러리 불러오기"
   ]
  },
  {
   "cell_type": "code",
   "execution_count": 1,
   "metadata": {},
   "outputs": [
    {
     "name": "stdout",
     "output_type": "stream",
     "text": [
      "프로젝트 수행에 필요한 라이브러리를 모두 불러왔습니다.\n"
     ]
    }
   ],
   "source": [
    "import numpy as np\n",
    "import cv2\n",
    "\n",
    "import time\n",
    "import datetime\n",
    "\n",
    "from utils import sign\n",
    "print(\"프로젝트 수행에 필요한 라이브러리를 모두 불러왔습니다.\")"
   ]
  },
  {
   "cell_type": "markdown",
   "metadata": {},
   "source": [
    "### Task 2. Main 함수 작성"
   ]
  },
  {
   "cell_type": "code",
   "execution_count": 2,
   "metadata": {},
   "outputs": [],
   "source": [
    "def Main():      \n",
    "        \n",
    "    print('Press \"s\" to save')\n",
    "    print('Press \"q\" to quit')\n",
    "    \n",
    "    count = 0\n",
    "    color = (0, 255, 0)\n",
    "    video_capture = cv2.VideoCapture(video)\n",
    "    \n",
    "    while(True):\n",
    "\n",
    "        grabbed, frame = video_capture.read()\n",
    "        cropped, box = sign.FindTrafficSign(frame)\n",
    "        \n",
    "        if box is not None:\n",
    "            cv2.drawContours(frame,[box],0,color,2) #show the box\n",
    "        \n",
    "        text = str(count)\n",
    "        cv2.putText(frame, text, (30,50), cv2.FONT_HERSHEY_SIMPLEX, 1.5, color, 3)\n",
    "        cv2.imshow(\"BrainAI Car IP Webcam\", frame)\n",
    "                   \n",
    "        key = cv2.waitKey(1);\n",
    "        if key == ord('q'):\n",
    "            break\n",
    "                \n",
    "        elif key == ord('s'):\n",
    "            if cropped is not None:\n",
    "                file = 'data/' + datetime.datetime.now().strftime(\"%Y%m%d_%H%M%S%f\") +'.jpg'\n",
    "                cv2.imwrite(file, cropped)\n",
    "                count +=1\n",
    "                \n",
    "        elif key == ord('r'):\n",
    "            count = 0 \n",
    "\n",
    "        elif key == ord('a'):\n",
    "            print(largestRect)\n",
    "            \n",
    "    video_capture.release()\n",
    "    cv2.destroyAllWindows()"
   ]
  },
  {
   "cell_type": "markdown",
   "metadata": {},
   "source": [
    "### Task 3. Main 함수 작성"
   ]
  },
  {
   "cell_type": "code",
   "execution_count": 3,
   "metadata": {},
   "outputs": [
    {
     "name": "stdout",
     "output_type": "stream",
     "text": [
      "Press \"s\" to save\n",
      "Press \"q\" to quit\n"
     ]
    }
   ],
   "source": [
    "video = \"http://172.30.1.68:8080/video\"   #코드\n",
    "\n",
    "if __name__ == '__main__':\n",
    "    Main()"
   ]
  }
 ],
 "metadata": {
  "kernelspec": {
   "display_name": "Python 3 (ipykernel)",
   "language": "python",
   "name": "python3"
  },
  "language_info": {
   "codemirror_mode": {
    "name": "ipython",
    "version": 3
   },
   "file_extension": ".py",
   "mimetype": "text/x-python",
   "name": "python",
   "nbconvert_exporter": "python",
   "pygments_lexer": "ipython3",
   "version": "3.8.16"
  }
 },
 "nbformat": 4,
 "nbformat_minor": 4
}

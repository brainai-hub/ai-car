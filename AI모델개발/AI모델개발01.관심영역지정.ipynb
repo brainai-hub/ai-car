{
 "cells": [
  {
   "cell_type": "markdown",
   "id": "92cc9e82-4fea-4c6c-a243-bb2c70efd833",
   "metadata": {},
   "source": [
    "#### 아래 내용은 Intel® AI for Youth 프로그램을 참고하여\n",
    "BrainAI와 BrainAI Coach Network에서 개발한 내용입니다.<br> \n",
    "상업적 사용은 불가하며 교육기관 및 학교에서 학생들 교육활동에 자유롭게 사용가능합니다."
   ]
  },
  {
   "cell_type": "markdown",
   "id": "0f3e3d55-7e7a-4a2d-a001-dace68786c02",
   "metadata": {},
   "source": [
    "# 프로젝트 제목: 교통 신호 관심 영역 지정\n",
    "자율주행자동차가 횡단보도에 정지 한 후 교통 신호를 판단하여 신호에 따라 주행할 수 있도록 하기 위해<br>\n",
    "실시간 영상에서 교통 신호가 있는 곳만을 관심 영역으로 지정한다."
   ]
  },
  {
   "cell_type": "markdown",
   "id": "b956513d-d598-4146-aba3-a4aacc463bb8",
   "metadata": {},
   "source": [
    "### Task 1. 필요 라이브러리 불러오기"
   ]
  },
  {
   "cell_type": "code",
   "execution_count": 1,
   "id": "81ad6627-d1f8-4785-92b1-2b4c3e952145",
   "metadata": {},
   "outputs": [],
   "source": [
    "import cv2\n",
    "import numpy as np\n",
    "import imutils\n",
    "from imutils.perspective import four_point_transform\n",
    "print(\"프로젝트 수행에 필요한 라이브러리를 모두 불러왔습니다.\")"
   ]
  },
  {
   "cell_type": "markdown",
   "id": "fec692de-d4a5-46e1-8897-8a3bf83107ed",
   "metadata": {},
   "source": [
    "### Task 2. 실시간 영상 데이터에서 교통 신호가 있는 곳을 관심 영역으로 지정 하는 함수 정의"
   ]
  },
  {
   "cell_type": "code",
   "execution_count": 2,
   "id": "e9f4a2f7-f00b-495d-9964-e7c5616fadb0",
   "metadata": {},
   "outputs": [],
   "source": [
    "def FindTrafficSign(frame):\n",
    "    frameArea = frame.shape[0] * frame.shape[1]\n",
    "    cropped = None\n",
    "    box = None\n",
    "    \n",
    "    hsv = cv2.cvtColor(frame, cv2.COLOR_BGR2HSV)\n",
    "    mask = cv2.inRange(hsv, (85,100,100), (115,255,255))  # 코드\n",
    "    cnts = cv2.findContours(mask.copy(), cv2.RETR_EXTERNAL, cv2.CHAIN_APPROX_SIMPLE)[-2]\n",
    "\n",
    "    if len(cnts) > 0:\n",
    "        c = max(cnts, key = cv2.contourArea)  \n",
    "        area = cv2.contourArea(c) \n",
    "        if area > frameArea * 0.005:\n",
    "            box = cv2.minAreaRect(c)  \n",
    "            box = cv2.boxPoints(box)\n",
    "            box = np.int0(box)    \n",
    "            cropped = four_point_transform(frame, [box][0]) \n",
    "\n",
    "    return cropped, box"
   ]
  },
  {
   "cell_type": "markdown",
   "id": "83d5a8bd-af0d-415d-9dbd-eb7b626fd4f0",
   "metadata": {},
   "source": [
    "### Task 3. Main 함수 작성"
   ]
  },
  {
   "cell_type": "code",
   "execution_count": 3,
   "id": "81e54b0a-9a18-4d15-bda2-4bb321fa87d3",
   "metadata": {},
   "outputs": [],
   "source": [
    "def Main():\n",
    "    video_capture = cv2.VideoCapture(video) \n",
    "    while(True):\n",
    "        grabbed, frame = video_capture.read()  \n",
    "        cropped, box = FindTrafficSign(frame)\n",
    "        cv2.imshow(\"BrainAI Car IP Webcam\", frame)\n",
    "        if box is not None:\n",
    "            cv2.drawContours(frame,[box],0,(0,255,0),2) \n",
    "            cv2.imshow(\"Cropped\", cropped)\n",
    "        key = cv2.waitKey(1)\n",
    "        if key == ord(\"q\"):\n",
    "            break\n",
    "    video_capture.release()\n",
    "    cv2.destroyAllWindows()"
   ]
  },
  {
   "cell_type": "markdown",
   "id": "379de82d-2af2-41c8-b414-61f5eecca1fe",
   "metadata": {},
   "source": [
    "### Task 4. 설정 값 변경 및 프로그램 실행"
   ]
  },
  {
   "cell_type": "code",
   "execution_count": 5,
   "id": "83ab0835-e68c-46d7-bf50-aae9add7a687",
   "metadata": {},
   "outputs": [],
   "source": [
    "video = \"http://172.30.1.68:8080/video\"\n",
    "if __name__ == '__main__': \n",
    "    Main()"
   ]
  }
 ],
 "metadata": {
  "kernelspec": {
   "display_name": "Python 3 (ipykernel)",
   "language": "python",
   "name": "python3"
  },
  "language_info": {
   "codemirror_mode": {
    "name": "ipython",
    "version": 3
   },
   "file_extension": ".py",
   "mimetype": "text/x-python",
   "name": "python",
   "nbconvert_exporter": "python",
   "pygments_lexer": "ipython3",
   "version": "3.8.16"
  }
 },
 "nbformat": 4,
 "nbformat_minor": 5
}

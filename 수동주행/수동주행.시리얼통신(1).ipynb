{
 "cells": [
  {
   "cell_type": "markdown",
   "metadata": {},
   "source": [
    "#### 아래 내용은 Intel® AI for Youth 프로그램을 참고하여\n",
    "BrainAI와 BrainAI Coach Network에서 개발한 내용입니다.<br> \n",
    "상업적 사용은 불가하며 교육기관 및 학교에서 학생들 교육활동에 자유롭게 사용가능합니다."
   ]
  },
  {
   "cell_type": "markdown",
   "metadata": {},
   "source": [
    "# 프로젝트 제목: 파이썬 시리얼 통신\n",
    "시리얼 통신으로 마이크로비트에 명령 보내는 파이썬 프로그램 작성하기"
   ]
  },
  {
   "cell_type": "markdown",
   "metadata": {},
   "source": [
    "### Task 1. 필요 라이브러리 불러오기"
   ]
  },
  {
   "cell_type": "code",
   "execution_count": null,
   "metadata": {},
   "outputs": [],
   "source": [
    "import serial\n",
    "import serial.tools.list_ports\n",
    "print(\"프로젝트 수행에 필요한 라이브러리를 모두 불러왔습니다.\")"
   ]
  },
  {
   "cell_type": "markdown",
   "metadata": {
    "tags": []
   },
   "source": [
    "### Task 2. 마이크로비트 연결 포트 자동 찾기 함수 작성\n",
    "마이크로비트 코드의 전송 속도(115200)를 확인한다."
   ]
  },
  {
   "cell_type": "code",
   "execution_count": null,
   "metadata": {},
   "outputs": [],
   "source": [
    "def startSerial(serial_on):\n",
    "    ser = None\n",
    "    if serial_on == True:\n",
    "        ports = serial.tools.list_ports.comports()\n",
    "        com = ''\n",
    "        print('\\n -- Microbit --')\n",
    "        for port, desc, hwid in sorted(ports):\n",
    "            if 'USB' in desc:\n",
    "                com = 여기 완성 # 포트 값을 가져와 com변수에 저장\n",
    "        if com != '':\n",
    "            print('Microbit USB detected: ', com)\n",
    "            ser = serial.Serial(com, 여기 완성 ,  # 마이크로비트 전송 속도와 일치\n",
    "                                timeout=0, \n",
    "                                parity=serial.PARITY_NONE, \n",
    "                                rtscts=0) \n",
    "        else:\n",
    "            print('No Microbit USB detected')\n",
    "    return ser"
   ]
  },
  {
   "cell_type": "markdown",
   "metadata": {
    "tags": []
   },
   "source": [
    "### Task 3. 마이크로비트에 시리얼 통신으로 명령 보내기 함수 작성"
   ]
  },
  {
   "cell_type": "code",
   "execution_count": null,
   "metadata": {
    "tags": []
   },
   "outputs": [],
   "source": [
    "def SerialSendCommand(cmd, ser, serial_on):\n",
    "    if 여기 완성 == True:  #serial 통신을 사용한다면\n",
    "        cmd = str(cmd) \n",
    "        cmd  = cmd + '\\n'\n",
    "        cmd = str.encode(cmd) \n",
    "        ser.write(cmd)"
   ]
  },
  {
   "cell_type": "markdown",
   "metadata": {
    "tags": []
   },
   "source": [
    "### Task 4. 시리얼 통신을 통해 명령 보내기 테스트"
   ]
  },
  {
   "cell_type": "code",
   "execution_count": null,
   "metadata": {},
   "outputs": [],
   "source": [
    "serial_on = True\n",
    "ser = startSerial(serial_on)\n",
    "print(ser)"
   ]
  }
 ],
 "metadata": {
  "kernelspec": {
   "display_name": "Python 3 (ipykernel)",
   "language": "python",
   "name": "python3"
  },
  "language_info": {
   "codemirror_mode": {
    "name": "ipython",
    "version": 3
   },
   "file_extension": ".py",
   "mimetype": "text/x-python",
   "name": "python",
   "nbconvert_exporter": "python",
   "pygments_lexer": "ipython3",
   "version": "3.8.16"
  }
 },
 "nbformat": 4,
 "nbformat_minor": 4
}

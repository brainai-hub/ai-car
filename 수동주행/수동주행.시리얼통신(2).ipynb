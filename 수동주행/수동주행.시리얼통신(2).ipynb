{
 "cells": [
  {
   "cell_type": "markdown",
   "metadata": {},
   "source": [
    "### 아래 내용은 Intel® AI for Youth 프로그램을 참고하여\n",
    "BrainAI와 BrainAI Coach Network에서 개발한 내용입니다.<br> \n",
    "상업적 사용은 불가하며 교육기관 및 학교에서 학생들 교육활동에 자유롭게 사용가능합니다."
   ]
  },
  {
   "cell_type": "markdown",
   "metadata": {},
   "source": [
    "# 프로젝트 제목: 파이썬 시리얼 통신\n",
    "시리얼 통신으로 마이크로비트에 명령 보내는 파이썬 프로그램 작성하기"
   ]
  },
  {
   "cell_type": "markdown",
   "metadata": {},
   "source": [
    "### Task 1. 필요 라이브러리 불러오기"
   ]
  },
  {
   "cell_type": "code",
   "execution_count": null,
   "metadata": {},
   "outputs": [],
   "source": [
    "# 필요 라이브러리 블러오기\n",
    "import cv2\n",
    "import numpy as np\n",
    "\n",
    "import serial\n",
    "import serial.tools.list_ports"
   ]
  },
  {
   "cell_type": "markdown",
   "metadata": {},
   "source": [
    "### Task 2. 마이크로비트 연결 포트 자동 찾기 함수 작성\n",
    "마이크로비트 코드의 전송 속도(115200)를 확인한다."
   ]
  },
  {
   "cell_type": "code",
   "execution_count": null,
   "metadata": {},
   "outputs": [],
   "source": [
    "def startSerial(serial_on):\n",
    "    \n",
    "    ser = None\n",
    "    if serial_on == True:\n",
    "        ports = serial.tools.list_ports.comports()\n",
    "        com = ''\n",
    "\n",
    "        print('\\n -- Microbit --')\n",
    "        for port, desc, hwid in sorted(ports):\n",
    "            if 'USB' in desc:\n",
    "                com = port\n",
    "\n",
    "        if com != '':\n",
    "            print('Microbit USB detected: ', com)\n",
    "            ser = serial.Serial(com, 115200, \n",
    "                                timeout=0, \n",
    "                                parity=serial.PARITY_NONE, \n",
    "                                rtscts=0) \n",
    "        else:\n",
    "            print('No Microbit USB detected')\n",
    "            \n",
    "    return ser"
   ]
  },
  {
   "cell_type": "markdown",
   "metadata": {},
   "source": [
    "### Task 3. 마이크로비트에 시리얼 통신으로 명령 보내기 함수 작성"
   ]
  },
  {
   "cell_type": "code",
   "execution_count": null,
   "metadata": {},
   "outputs": [],
   "source": [
    "def SerialSendCommand(cmd, ser, serial_on):\n",
    "\n",
    "    if serial_on == True:\n",
    "        cmd = str(cmd) \n",
    "        cmd  = cmd + '\\n'\n",
    "        cmd = str.encode(cmd) \n",
    "        ser.write(cmd)"
   ]
  },
  {
   "cell_type": "markdown",
   "metadata": {},
   "source": [
    "### Task 4. Main 함수 작성"
   ]
  },
  {
   "cell_type": "code",
   "execution_count": null,
   "metadata": {},
   "outputs": [],
   "source": [
    "def Main():      \n",
    "    \n",
    "    cmd = '' \n",
    "    \n",
    "    print('Input your commands: w, a, s, d')\n",
    "    print('Press Spacebar to stop')\n",
    "    print('Press q to quit') \n",
    "    \n",
    "    video_capture = cv2.VideoCapture(video)\n",
    "    \n",
    "    if serial_on == True:\n",
    "        ser = startSerial(serial_on)\n",
    "        SerialSendCommand(speed, ser, serial_on)\n",
    "\n",
    "    while(True):\n",
    "\n",
    "        grabbed, frame = video_capture.read()   \n",
    "        cv2.imshow('IP Webcam', frame)\n",
    "\n",
    "        if cmd == '':\n",
    "            key = cv2.waitKey(1) #코드\n",
    "            if key == ord('q'):\n",
    "                break\n",
    "            elif key == ord('w'):\n",
    "                cmd = 90 # 서보모터 90도 - 직진\n",
    "                print('Forward')               \n",
    "            elif key == ord('a'):\n",
    "                cmd = 120 # 서보모터 120도 - 좌회전\n",
    "                print('Left')             \n",
    "            elif key == ord('d'):\n",
    "                cmd = 60 # 서보모터 60도 - 우회전\n",
    "                print('Right')            \n",
    "            elif key == ord('s'):\n",
    "                cmd = '-90' # 20 - 160 범위 이외의 경우 - 후진\n",
    "                print('Reverse')            \n",
    "            elif key == ord(' '):\n",
    "                cmd = '0' # 20 - 160 범위 이외의 경우 - 정지\n",
    "                print('Stop')\n",
    "        else:\n",
    "            if serial_on == True:\n",
    "                SerialSendCommand(cmd, ser, serial_on) \n",
    "            cmd = ''\n",
    " \n",
    "    if serial_on == True:\n",
    "        cmd = '0'                    \n",
    "        SerialSendCommand(cmd, ser, serial_on)\n",
    "        ser.close()\n",
    " \n",
    "    cv2.destroyAllWindows()\n"
   ]
  },
  {
   "cell_type": "markdown",
   "metadata": {},
   "source": [
    "### Task 5. 설정 값 변경 및 프로그램 실행"
   ]
  },
  {
   "cell_type": "code",
   "execution_count": null,
   "metadata": {
    "scrolled": true
   },
   "outputs": [],
   "source": [
    "video =  \" 여기 완성 \" \n",
    "speed = 600      #(400-1023)\n",
    "serial_on = False\n",
    "\n",
    "if __name__ == '__main__':\n",
    "    Main()"
   ]
  }
 ],
 "metadata": {
  "kernelspec": {
   "display_name": "Python 3 (ipykernel)",
   "language": "python",
   "name": "python3"
  },
  "language_info": {
   "codemirror_mode": {
    "name": "ipython",
    "version": 3
   },
   "file_extension": ".py",
   "mimetype": "text/x-python",
   "name": "python",
   "nbconvert_exporter": "python",
   "pygments_lexer": "ipython3",
   "version": "3.8.16"
  }
 },
 "nbformat": 4,
 "nbformat_minor": 4
}
